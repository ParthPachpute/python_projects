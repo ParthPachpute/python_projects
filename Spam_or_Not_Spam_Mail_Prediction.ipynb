{
  "cells": [
    {
      "cell_type": "markdown",
      "metadata": {
        "id": "ildSmQtEItwj"
      },
      "source": [
        "# Spam or Not Spam Mail Prediction Project"
      ]
    },
    {
      "cell_type": "markdown",
      "metadata": {
        "id": "KTrlCH1JJGWc"
      },
      "source": [
        "This Machine Learning project detects whether the given mail is ***Spam (0)*** or ***Not Spam (1)***\n",
        "\n"
      ]
    },
    {
      "cell_type": "markdown",
      "metadata": {
        "id": "Rnc34-jHMaFF"
      },
      "source": [
        "# *Some Examples*"
      ]
    },
    {
      "cell_type": "markdown",
      "metadata": {
        "id": "g_Ceo1XBKxGZ"
      },
      "source": [
        "**Example of Spam Mail**\n",
        "\n",
        "> *WINNER!! As a valued network customer you have been selected to received £900 prize reward! To claim call 09061701461. Claim code KL341. Valid 12 hours only*\n",
        "\n",
        "**Example of a Normal Mail (Not Spam)**\n",
        "\n",
        "> *I‘m going to try for 2 months ha ha only joking*\n",
        "\n"
      ]
    },
    {
      "cell_type": "markdown",
      "metadata": {
        "id": "ptnIvRVrcY5T"
      },
      "source": [
        "# *Importing the Necessary Libraries*"
      ]
    },
    {
      "cell_type": "code",
      "execution_count": 2,
      "metadata": {
        "id": "ApjSCDP2IPNP"
      },
      "outputs": [],
      "source": [
        "import numpy as np\n",
        "import pandas as pd\n",
        "import matplotlib.pyplot as plt\n",
        "import seaborn as sns\n",
        "import warnings as we\n",
        "we.filterwarnings('ignore')\n",
        "\n",
        "from sklearn.feature_extraction.text import TfidfVectorizer\n",
        "from sklearn.linear_model import LogisticRegression\n",
        "from sklearn.tree import DecisionTreeClassifier\n",
        "from sklearn.ensemble import RandomForestClassifier\n",
        "from sklearn.model_selection import train_test_split\n",
        "from sklearn.metrics import confusion_matrix, accuracy_score"
      ]
    },
    {
      "cell_type": "markdown",
      "metadata": {
        "id": "R92QeCGXc98Q"
      },
      "source": [
        "# *EDA & Preprocessing*"
      ]
    },
    {
      "cell_type": "code",
      "execution_count": 3,
      "metadata": {
        "colab": {
          "base_uri": "https://localhost:8080/",
          "height": 423
        },
        "id": "9-sYqan5IPNR",
        "outputId": "03693fa2-f79b-44e8-caef-ca41d2d91743"
      },
      "outputs": [
        {
          "data": {
            "text/html": [
              "<div>\n",
              "<style scoped>\n",
              "    .dataframe tbody tr th:only-of-type {\n",
              "        vertical-align: middle;\n",
              "    }\n",
              "\n",
              "    .dataframe tbody tr th {\n",
              "        vertical-align: top;\n",
              "    }\n",
              "\n",
              "    .dataframe thead th {\n",
              "        text-align: right;\n",
              "    }\n",
              "</style>\n",
              "<table border=\"1\" class=\"dataframe\">\n",
              "  <thead>\n",
              "    <tr style=\"text-align: right;\">\n",
              "      <th></th>\n",
              "      <th>Category</th>\n",
              "      <th>Message</th>\n",
              "    </tr>\n",
              "  </thead>\n",
              "  <tbody>\n",
              "    <tr>\n",
              "      <th>0</th>\n",
              "      <td>ham</td>\n",
              "      <td>Go until jurong point, crazy.. Available only ...</td>\n",
              "    </tr>\n",
              "    <tr>\n",
              "      <th>1</th>\n",
              "      <td>ham</td>\n",
              "      <td>Ok lar... Joking wif u oni...</td>\n",
              "    </tr>\n",
              "    <tr>\n",
              "      <th>2</th>\n",
              "      <td>spam</td>\n",
              "      <td>Free entry in 2 a wkly comp to win FA Cup fina...</td>\n",
              "    </tr>\n",
              "    <tr>\n",
              "      <th>3</th>\n",
              "      <td>ham</td>\n",
              "      <td>U dun say so early hor... U c already then say...</td>\n",
              "    </tr>\n",
              "    <tr>\n",
              "      <th>4</th>\n",
              "      <td>ham</td>\n",
              "      <td>Nah I don't think he goes to usf, he lives aro...</td>\n",
              "    </tr>\n",
              "    <tr>\n",
              "      <th>...</th>\n",
              "      <td>...</td>\n",
              "      <td>...</td>\n",
              "    </tr>\n",
              "    <tr>\n",
              "      <th>5567</th>\n",
              "      <td>spam</td>\n",
              "      <td>This is the 2nd time we have tried 2 contact u...</td>\n",
              "    </tr>\n",
              "    <tr>\n",
              "      <th>5568</th>\n",
              "      <td>ham</td>\n",
              "      <td>Will ü b going to esplanade fr home?</td>\n",
              "    </tr>\n",
              "    <tr>\n",
              "      <th>5569</th>\n",
              "      <td>ham</td>\n",
              "      <td>Pity, * was in mood for that. So...any other s...</td>\n",
              "    </tr>\n",
              "    <tr>\n",
              "      <th>5570</th>\n",
              "      <td>ham</td>\n",
              "      <td>The guy did some bitching but I acted like i'd...</td>\n",
              "    </tr>\n",
              "    <tr>\n",
              "      <th>5571</th>\n",
              "      <td>ham</td>\n",
              "      <td>Rofl. Its true to its name</td>\n",
              "    </tr>\n",
              "  </tbody>\n",
              "</table>\n",
              "<p>5572 rows × 2 columns</p>\n",
              "</div>"
            ],
            "text/plain": [
              "     Category                                            Message\n",
              "0         ham  Go until jurong point, crazy.. Available only ...\n",
              "1         ham                      Ok lar... Joking wif u oni...\n",
              "2        spam  Free entry in 2 a wkly comp to win FA Cup fina...\n",
              "3         ham  U dun say so early hor... U c already then say...\n",
              "4         ham  Nah I don't think he goes to usf, he lives aro...\n",
              "...       ...                                                ...\n",
              "5567     spam  This is the 2nd time we have tried 2 contact u...\n",
              "5568      ham               Will ü b going to esplanade fr home?\n",
              "5569      ham  Pity, * was in mood for that. So...any other s...\n",
              "5570      ham  The guy did some bitching but I acted like i'd...\n",
              "5571      ham                         Rofl. Its true to its name\n",
              "\n",
              "[5572 rows x 2 columns]"
            ]
          },
          "execution_count": 3,
          "metadata": {},
          "output_type": "execute_result"
        }
      ],
      "source": [
        "df = pd.read_csv('D:\\PSP\\DoX\\P@RTH\\ITVedant\\Machine Learning\\Project\\mail_data.csv')\n",
        "df"
      ]
    },
    {
      "cell_type": "code",
      "execution_count": 4,
      "metadata": {
        "colab": {
          "base_uri": "https://localhost:8080/"
        },
        "id": "a8Xu8a89IPNT",
        "outputId": "ef40693f-e2c6-4988-bc9a-d81f22ddeae9"
      },
      "outputs": [
        {
          "data": {
            "text/plain": [
              "Category    0\n",
              "Message     0\n",
              "dtype: int64"
            ]
          },
          "execution_count": 4,
          "metadata": {},
          "output_type": "execute_result"
        }
      ],
      "source": [
        "df.isnull().sum()"
      ]
    },
    {
      "cell_type": "code",
      "execution_count": 5,
      "metadata": {
        "id": "d3P6oHAKIPNT"
      },
      "outputs": [],
      "source": [
        "# Replacing the Ham value with Not Spam\n",
        "df['Category'].replace('ham', 'not spam', inplace = True)"
      ]
    },
    {
      "cell_type": "markdown",
      "metadata": {
        "id": "lHiiVPOlfA_C"
      },
      "source": [
        "*Count Plot shwoing the count of spam & not spam values*"
      ]
    },
    {
      "cell_type": "code",
      "execution_count": 6,
      "metadata": {
        "colab": {
          "base_uri": "https://localhost:8080/",
          "height": 513
        },
        "id": "t-09BgQGIPNT",
        "outputId": "0a14c4a9-112f-446b-a86a-51aa538a9b41"
      },
      "outputs": [
        {
          "data": {
            "image/png": "[encoded data removed]",
            "text/plain": [
              "<Figure size 576x576 with 1 Axes>"
            ]
          },
          "metadata": {
            "needs_background": "light"
          },
          "output_type": "display_data"
        }
      ],
      "source": [
        "plt.figure(figsize = (8,8))\n",
        "sns.countplot(data = df, x = 'Category', palette = 'cool')\n",
        "plt.title('Count of Values')\n",
        "plt.show()"
      ]
    },
    {
      "cell_type": "markdown",
      "metadata": {
        "id": "7YeIPabmIPNU"
      },
      "source": [
        "**Assigning the values using One Hot Encoding**\n",
        "> *Not Spam = 1 & Spam = 0*"
      ]
    },
    {
      "cell_type": "code",
      "execution_count": 7,
      "metadata": {
        "id": "7hcQG-k-IPNU"
      },
      "outputs": [],
      "source": [
        "# Labeling  the Target values\n",
        "\n",
        "df.loc[df['Category'] == 'spam', 'Category'] = 0\n",
        "df.loc[df['Category'] == 'not spam', 'Category'] = 1\n",
        "\n",
        "# Converting data types\n",
        "\n",
        "df['Category'] = df['Category'].astype('int')"
      ]
    },
    {
      "cell_type": "markdown",
      "metadata": {
        "id": "HdmH4Q1JfgVa"
      },
      "source": [
        "# *Train Test Split*"
      ]
    },
    {
      "cell_type": "code",
      "execution_count": 8,
      "metadata": {
        "id": "ytcNFp-bIPNV"
      },
      "outputs": [],
      "source": [
        "# Splitting The Data\n",
        "\n",
        "X = df['Message']\n",
        "y = df['Category']\n",
        "\n",
        "X_train, X_test, y_train, y_test = train_test_split(X, y, test_size = 0.3, random_state = 6)"
      ]
    },
    {
      "cell_type": "code",
      "execution_count": 9,
      "metadata": {
        "colab": {
          "base_uri": "https://localhost:8080/"
        },
        "id": "Ct2RhWYgIPNV",
        "outputId": "80a0d152-8891-4d98-98ab-95d64fb0f8fa"
      },
      "outputs": [
        {
          "name": "stdout",
          "output_type": "stream",
          "text": [
            "X Data Count: (5572,)\n",
            "X_train Count: (3900,)\n",
            "X_test Count: (1672,)\n"
          ]
        }
      ],
      "source": [
        "print('X Data Count:', X.shape)\n",
        "print('X_train Count:', X_train.shape)\n",
        "print('X_test Count:', X_test.shape)"
      ]
    },
    {
      "cell_type": "markdown",
      "metadata": {
        "id": "oxjsBwl4ggyu"
      },
      "source": [
        "# *Transforming the Data using Vectorizer*"
      ]
    },
    {
      "cell_type": "markdown",
      "metadata": {
        "id": "ycC7ljTjs6Vk"
      },
      "source": [
        "\n",
        "\n",
        "> Using TfidVectorizer to transform the text data to feature vector which will be used as input for Models\n",
        "\n"
      ]
    },
    {
      "cell_type": "code",
      "execution_count": 10,
      "metadata": {
        "id": "-a-RN08vIPNW"
      },
      "outputs": [],
      "source": [
        "fe = TfidfVectorizer(min_df = 1, stop_words = 'english', lowercase = True)\n",
        "\n",
        "X_train_f = fe.fit_transform(X_train)\n",
        "X_test_f = fe.transform(X_test)"
      ]
    },
    {
      "cell_type": "markdown",
      "metadata": {
        "id": "Uu7Rp3RSkD2K"
      },
      "source": [
        "# *Logistic Regression*"
      ]
    },
    {
      "cell_type": "code",
      "execution_count": 11,
      "metadata": {
        "id": "vkqHA6YCj_TF"
      },
      "outputs": [],
      "source": [
        "lr = LogisticRegression()"
      ]
    },
    {
      "cell_type": "markdown",
      "metadata": {
        "id": "i-ws7nuco2eZ"
      },
      "source": [
        "\n",
        "\n",
        "> Creating the Model using Logistic Regression\n",
        "\n"
      ]
    },
    {
      "cell_type": "code",
      "execution_count": 12,
      "metadata": {
        "id": "Uqh0QCu7o0oM"
      },
      "outputs": [],
      "source": [
        "lr.fit(X_train_f, y_train) # Training the Model\n",
        "lr_pred = lr.predict(X_test_f) # Prediction"
      ]
    },
    {
      "cell_type": "markdown",
      "metadata": {
        "id": "oxzH4rbypmJ5"
      },
      "source": [
        "\n",
        "\n",
        "> Getting Scores and Confusion Matrix\n",
        "\n"
      ]
    },
    {
      "cell_type": "code",
      "execution_count": 13,
      "metadata": {
        "id": "3Uo88X9lpuR1"
      },
      "outputs": [
        {
          "name": "stdout",
          "output_type": "stream",
          "text": [
            "--------------------------\n",
            "Confusion Matrix\n",
            "\n",
            "[[ 159   46]\n",
            " [   1 1466]]\n",
            "--------------------------\n",
            "Score: 97.188995215311\n",
            "--------------------------\n"
          ]
        }
      ],
      "source": [
        "print('--------------------------')\n",
        "print(\"Confusion Matrix\")\n",
        "print('')\n",
        "print(confusion_matrix(y_test, lr_pred))\n",
        "print('--------------------------')\n",
        "print(\"Score:\", accuracy_score(y_test, lr_pred) * 100)\n",
        "print('--------------------------')"
      ]
    },
    {
      "cell_type": "markdown",
      "metadata": {
        "id": "gg3AHEt_kpVu"
      },
      "source": [
        "# *Decision Tree Classifier*"
      ]
    },
    {
      "cell_type": "code",
      "execution_count": 14,
      "metadata": {
        "id": "agwzJzkvkWKR"
      },
      "outputs": [],
      "source": [
        "dt = DecisionTreeClassifier()"
      ]
    },
    {
      "cell_type": "markdown",
      "metadata": {
        "id": "LF6wjZL2rE2r"
      },
      "source": [
        "\n",
        "\n",
        "> Creating the Model using Decision Tree Classifier\n",
        "\n"
      ]
    },
    {
      "cell_type": "code",
      "execution_count": 15,
      "metadata": {
        "id": "CNpkuKQIrKuj"
      },
      "outputs": [],
      "source": [
        "dt.fit(X_train_f, y_train) # Training the Model\n",
        "dt_pred = dt.predict(X_test_f) # Prediction"
      ]
    },
    {
      "cell_type": "markdown",
      "metadata": {
        "id": "_vD1Kgv5rSYb"
      },
      "source": [
        "\n",
        "\n",
        "> Getting Scores and Confusion Matrix\n",
        "\n"
      ]
    },
    {
      "cell_type": "code",
      "execution_count": 16,
      "metadata": {
        "id": "hKXOY9W3rhO8"
      },
      "outputs": [
        {
          "name": "stdout",
          "output_type": "stream",
          "text": [
            "--------------------------\n",
            "Confusion Matrix\n",
            "\n",
            "[[ 174   31]\n",
            " [  23 1444]]\n",
            "--------------------------\n",
            "Score: 96.77033492822966\n",
            "--------------------------\n"
          ]
        }
      ],
      "source": [
        "print('--------------------------')\n",
        "print(\"Confusion Matrix\")\n",
        "print('')\n",
        "print(confusion_matrix(y_test, dt_pred))\n",
        "print('--------------------------')\n",
        "print(\"Score:\", accuracy_score(y_test, dt_pred) * 100)\n",
        "print('--------------------------')"
      ]
    },
    {
      "cell_type": "markdown",
      "metadata": {
        "id": "YYiQGfw4k3oz"
      },
      "source": [
        "# *Random Forest Classifier*"
      ]
    },
    {
      "cell_type": "code",
      "execution_count": 17,
      "metadata": {
        "id": "zxNyZXe8k0Vl"
      },
      "outputs": [],
      "source": [
        "rfc = RandomForestClassifier()"
      ]
    },
    {
      "cell_type": "markdown",
      "metadata": {
        "id": "mUS46WuFrtgS"
      },
      "source": [
        "\n",
        "\n",
        "> Creating the Model using Random Forest Classifier\n",
        "\n"
      ]
    },
    {
      "cell_type": "code",
      "execution_count": 18,
      "metadata": {
        "id": "_XNsmQgGr2M-"
      },
      "outputs": [],
      "source": [
        "rfc.fit(X_train_f, y_train) # Training the Model\n",
        "rfc_pred = rfc.predict(X_test_f) # Prediction"
      ]
    },
    {
      "cell_type": "markdown",
      "metadata": {
        "id": "ckUvezbUr84q"
      },
      "source": [
        "\n",
        "\n",
        "> Getting Scores and Confusion Matrix\n",
        "\n"
      ]
    },
    {
      "cell_type": "code",
      "execution_count": 19,
      "metadata": {
        "id": "ksh9bA7-sCbO"
      },
      "outputs": [
        {
          "name": "stdout",
          "output_type": "stream",
          "text": [
            "--------------------------\n",
            "Confusion Matrix\n",
            "\n",
            "[[ 178   27]\n",
            " [   1 1466]]\n",
            "--------------------------\n",
            "Score: 98.32535885167464\n",
            "--------------------------\n"
          ]
        }
      ],
      "source": [
        "print('--------------------------')\n",
        "print(\"Confusion Matrix\")\n",
        "print('')\n",
        "print(confusion_matrix(y_test, rfc_pred))\n",
        "print('--------------------------')\n",
        "print(\"Score:\", accuracy_score(y_test, rfc_pred) * 100)\n",
        "print('--------------------------')"
      ]
    },
    {
      "cell_type": "markdown",
      "metadata": {
        "id": "GP3A64WplGnX"
      },
      "source": [
        "# *Prediction System*"
      ]
    },
    {
      "cell_type": "code",
      "execution_count": 20,
      "metadata": {
        "id": "knfW4rlQsrXe"
      },
      "outputs": [
        {
          "name": "stdout",
          "output_type": "stream",
          "text": [
            "-----------\n",
            "Not Spam,  using logisctic Regression\n",
            "-----------\n",
            "Spam Mail, using Decision Tree Classifier\n",
            "-----------\n",
            "Spam Mail, using Random Forest Classifier\n",
            "-----------\n"
          ]
        }
      ],
      "source": [
        "mail = ['England v Macedonia - dont miss the goals/team news. Txt ur national team to 87077 eg ENGLAND to 87077 Try:WALES, SCOTLAND 4txt/ú1.20 POBOXox36504W45WQ 16+']\n",
        "\n",
        "# Convert Text to Feature Vector\n",
        "fe_mail = fe.transform(mail)\n",
        "\n",
        "# Prediction using Logistic Regression\n",
        "log_pred = lr.predict(fe_mail)\n",
        "\n",
        "if (log_pred[0] == 0):\n",
        "  print('-----------')\n",
        "  print('Spam Mail, using logisctic Regression')\n",
        "  print('-----------')\n",
        "else:\n",
        "  print('-----------')\n",
        "  print('Not Spam,  using logisctic Regression')\n",
        "  print('-----------')\n",
        "\n",
        "\n",
        "# Prediction using Decision Tree Classifier\n",
        "dec_pred = dt.predict(fe_mail)\n",
        "\n",
        "if (dec_pred[0] == 0):\n",
        "  print('Spam Mail, using Decision Tree Classifier')\n",
        "else:\n",
        "  print('Not Spam, using Decision Tree Classifier')\n",
        "\n",
        "\n",
        "# Prediction using Random Forest Classifier\n",
        "random_pred = rfc.predict(fe_mail)\n",
        "\n",
        "if (random_pred[0] == 0):\n",
        "  print('-----------')\n",
        "  print('Spam Mail, using Random Forest Classifier')\n",
        "  print('-----------')\n",
        "else:\n",
        "  print('-----------')\n",
        "  print('Not Spam, using Random Forest Classifier')\n",
        "  print('-----------')\n"
      ]
    },
    {
      "cell_type": "code",
      "execution_count": null,
      "metadata": {},
      "outputs": [],
      "source": []
    }
  ],
  "metadata": {
    "colab": {
      "collapsed_sections": [
        "ildSmQtEItwj",
        "Rnc34-jHMaFF",
        "ptnIvRVrcY5T",
        "R92QeCGXc98Q",
        "HdmH4Q1JfgVa",
        "oxjsBwl4ggyu",
        "Uu7Rp3RSkD2K",
        "gg3AHEt_kpVu",
        "YYiQGfw4k3oz",
        "GP3A64WplGnX"
      ],
      "name": "Spam or Not Spam Mail Prediction.ipynb",
      "provenance": []
    },
    "interpreter": {
      "hash": "24cc4c7af2a665bfcc328cb7b61fc6d6fb02b8437e965fbedbdeccd9820ba881"
    },
    "kernelspec": {
      "display_name": "Python 3.9.7 64-bit ('PSP': conda)",
      "language": "python",
      "name": "python3"
    },
    "language_info": {
      "codemirror_mode": {
        "name": "ipython",
        "version": 3
      },
      "file_extension": ".py",
      "mimetype": "text/x-python",
      "name": "python",
      "nbconvert_exporter": "python",
      "pygments_lexer": "ipython3",
      "version": "3.9.7"
    },
    "orig_nbformat": 4
  },
  "nbformat": 4,
  "nbformat_minor": 0
}
